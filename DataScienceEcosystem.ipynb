{
  "metadata": {
    "kernelspec": {
      "name": "python",
      "display_name": "Python (Pyodide)",
      "language": "python"
    },
    "language_info": {
      "codemirror_mode": {
        "name": "python",
        "version": 3
      },
      "file_extension": ".py",
      "mimetype": "text/x-python",
      "name": "python",
      "nbconvert_exporter": "python",
      "pygments_lexer": "ipython3",
      "version": "3.8"
    }
  },
  "nbformat_minor": 4,
  "nbformat": 4,
  "cells": [
    {
      "cell_type": "markdown",
      "source": "# H1: Data Science Tools and Ecosystem",
      "metadata": {}
    },
    {
      "cell_type": "markdown",
      "source": "** Introduction**\n  \nIn this notebook, Data Science Tools and Ecosystem are summarized.",
      "metadata": {}
    },
    {
      "cell_type": "markdown",
      "source": "**Data science languages**\n\nSome of the popular languages that Data Scientists use are:\n\n1. Python\n2. R\n3. Spark\n4. Apache\n",
      "metadata": {}
    },
    {
      "cell_type": "markdown",
      "source": "**Data science librairies**\nSome of the commonly used libraries used by Data Scientists include:\n1-caret\n2-Scikit-learn\n3-Pandas\n4-Numpy\n5-Keras\n6-Networkx\n",
      "metadata": {}
    },
    {
      "cell_type": "markdown",
      "source": "**Objectives**\n\n- data science tools\n- data science librairies\n- data science languages",
      "metadata": {}
    },
    {
      "cell_type": "markdown",
      "source": "**Data Science Tools**\n\n| Data Science Tools |\n|--------------------|\n|Apache Spark|\n|Apache Hyve|\n|IBM cognos|\n|Jupyter Notebook|\n",
      "metadata": {}
    },
    {
      "cell_type": "markdown",
      "source": "### H3: Arithmetic expression examples\n\nBelow are a few examples of evaluating arithmetic expressions in Python",
      "metadata": {}
    },
    {
      "cell_type": "code",
      "source": "# This a simple arithmetic expression to mutiply then add integers\n(3*4)+5",
      "metadata": {
        "trusted": true
      },
      "outputs": [
        {
          "execution_count": 1,
          "output_type": "execute_result",
          "data": {
            "text/plain": "17"
          },
          "metadata": {}
        }
      ],
      "execution_count": 1
    },
    {
      "cell_type": "code",
      "source": "# This will convert 200 minutes to hours by diving by 60\ntime_min=200\ntime_h=time_min/60\nprint(round(time_h,2))",
      "metadata": {
        "trusted": true
      },
      "outputs": [
        {
          "name": "stdout",
          "text": "3.33\n",
          "output_type": "stream"
        }
      ],
      "execution_count": 2
    },
    {
      "cell_type": "markdown",
      "source": "## Author\nVignon VIGNIGBE",
      "metadata": {}
    }
  ]
}